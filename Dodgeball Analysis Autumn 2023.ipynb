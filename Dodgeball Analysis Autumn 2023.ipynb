{
 "cells": [
  {
   "cell_type": "code",
   "execution_count": 6,
   "id": "010f185f",
   "metadata": {},
   "outputs": [
    {
     "name": "stdout",
     "output_type": "stream",
     "text": [
      "<class 'pandas.core.frame.DataFrame'>\n",
      "RangeIndex: 373 entries, 0 to 372\n",
      "Data columns (total 33 columns):\n",
      " #   Column              Non-Null Count  Dtype  \n",
      "---  ------              --------------  -----  \n",
      " 0   Player Id           373 non-null    object \n",
      " 1   Competition         373 non-null    object \n",
      " 2   Opponent Id         373 non-null    int64  \n",
      " 3   Game Id             373 non-null    int64  \n",
      " 4   Game Result         373 non-null    object \n",
      " 5   Set                 373 non-null    int64  \n",
      " 6   Half                373 non-null    int64  \n",
      " 7   Set Result          373 non-null    object \n",
      " 8   Throws              319 non-null    float64\n",
      " 9   Blocked             113 non-null    float64\n",
      " 10  Dodged              173 non-null    float64\n",
      " 11  Caught Out          20 non-null     float64\n",
      " 12  Hit But Caught      4 non-null      float64\n",
      " 13  Offensive Outs      130 non-null    float64\n",
      " 14  Defensive Outs      127 non-null    float64\n",
      " 15  Total Outs          373 non-null    int64  \n",
      " 16  Total On Target     373 non-null    int64  \n",
      " 17  Defensive Catch     14 non-null     float64\n",
      " 18  Defensive Block     80 non-null     float64\n",
      " 19  Defensive Dodge     211 non-null    float64\n",
      " 20  Deflected Catch     1 non-null      float64\n",
      " 21  Dropped Catch       0 non-null      float64\n",
      " 22  Hit & Caught        1 non-null      float64\n",
      " 23  Hit Out Off         85 non-null     float64\n",
      " 24  Hit Out Def         115 non-null    float64\n",
      " 25  Line Out            4 non-null      float64\n",
      " 26  Time on Court       373 non-null    int64  \n",
      " 27  Total Time          373 non-null    int64  \n",
      " 28  Hit Out Total       373 non-null    int64  \n",
      " 29  Thrown At Total     373 non-null    int64  \n",
      " 30  Total Offense Outs  373 non-null    int64  \n",
      " 31  Total Defense Outs  373 non-null    int64  \n",
      " 32  Unnamed: 32         1 non-null      object \n",
      "dtypes: float64(16), int64(12), object(5)\n",
      "memory usage: 96.3+ KB\n"
     ]
    }
   ],
   "source": [
    "import pandas as pd\n",
    "\n",
    "data = pd.read_csv('dodgeball-data-autumn-2023.csv')\n",
    "\n",
    "data.describe()\n",
    "data.info()"
   ]
  },
  {
   "cell_type": "code",
   "execution_count": null,
   "id": "8179b806",
   "metadata": {},
   "outputs": [],
   "source": []
  }
 ],
 "metadata": {
  "kernelspec": {
   "display_name": "Python 3 (ipykernel)",
   "language": "python",
   "name": "python3"
  },
  "language_info": {
   "codemirror_mode": {
    "name": "ipython",
    "version": 3
   },
   "file_extension": ".py",
   "mimetype": "text/x-python",
   "name": "python",
   "nbconvert_exporter": "python",
   "pygments_lexer": "ipython3",
   "version": "3.10.9"
  }
 },
 "nbformat": 4,
 "nbformat_minor": 5
}
